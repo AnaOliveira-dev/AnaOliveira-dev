{
  "nbformat": 4,
  "nbformat_minor": 0,
  "metadata": {
    "colab": {
      "provenance": [],
      "authorship_tag": "ABX9TyN1zoHGoo8SfD6U222XvjnO"
    },
    "kernelspec": {
      "name": "python3",
      "display_name": "Python 3"
    },
    "language_info": {
      "name": "python"
    }
  },
  "cells": [
    {
      "cell_type": "code",
      "source": [
        "print('Bem vindo ao programa de notas!')\n",
        "print('Para inserir notas quebradas, utilize um ponto para separar o número inteiro do decimal. Ex: 8.5')"
      ],
      "metadata": {
        "colab": {
          "base_uri": "https://localhost:8080/"
        },
        "id": "BSoSUHr10LNS",
        "outputId": "5692d877-d020-46b1-a5da-a361efd66a5f"
      },
      "execution_count": 3,
      "outputs": [
        {
          "output_type": "stream",
          "name": "stdout",
          "text": [
            "Bem vindo ao programa de notas!\n",
            "Para inserir notas quebradas, utilize um ponto para separar o número inteiro do decimal. Ex: 8.5\n"
          ]
        }
      ]
    },
    {
      "cell_type": "code",
      "execution_count": null,
      "metadata": {
        "id": "1-88WPFHRF31"
      },
      "outputs": [],
      "source": [
        "nome= input(\"Digite seu nome \") #coletando dados e salvando em string\n",
        "nota1= float(input(\"Digite a nota tirada na 1ª prova \")) #com o float antes de imput, já salva o valor em uma variavel do tipo float\n",
        "nota2= float(input(\"Digite a nota tirada na 2ª prova \"))\n",
        "nota3= float(input(\"Digite a nota tirada na 3ª prova \"))\n",
        "nota4= float(input(\"Digite a nota tirada no trabalho \"))\n",
        "\n",
        "if nota1 <10 and nota2<10 and nota3<10 and nota4<10:\n",
        "  print(F\"Olá {nome}, suas notas do primeiro semestre foram {nota1} e {nota2}. Suas notas do segundo semestre foram {nota3} e {nota4}\") #Devolvendo os dados ao usuário\n",
        "else:\n",
        "  print('Notas não aceitas. Por favor, as insira novamente')\n",
        ""
      ]
    },
    {
      "cell_type": "code",
      "source": [
        "soma_provas= valor_nota1 + nota2 + nota3"
      ],
      "metadata": {
        "id": "6SUwv9MGeViA"
      },
      "execution_count": 45,
      "outputs": []
    },
    {
      "cell_type": "code",
      "source": [
        "primeiro_semestre_soma= valor_nota1 + nota2"
      ],
      "metadata": {
        "id": "uXdwW9NbepxV"
      },
      "execution_count": 46,
      "outputs": []
    },
    {
      "cell_type": "code",
      "source": [
        "segundo_semestre_soma= nota3 + nota4"
      ],
      "metadata": {
        "id": "1UDrcoCMetHX"
      },
      "execution_count": 47,
      "outputs": []
    },
    {
      "cell_type": "code",
      "source": [
        "lista= [primeiro_semestre_soma, segundo_semestre_soma]"
      ],
      "metadata": {
        "id": "KD1EVrWajSbp"
      },
      "execution_count": 48,
      "outputs": []
    },
    {
      "cell_type": "code",
      "source": [
        "for val in lista:\n",
        "  val/=2\n",
        "  print('Sua média foi: ', val) #Devolvendo ao usuário as médias alcançadas no primeiro e no segundo semestre"
      ],
      "metadata": {
        "colab": {
          "base_uri": "https://localhost:8080/"
        },
        "id": "buTqWg2Kf7SK",
        "outputId": "5d0dbc00-40a5-46ca-8458-14ca40381e61"
      },
      "execution_count": 62,
      "outputs": [
        {
          "output_type": "stream",
          "name": "stdout",
          "text": [
            "Sua média foi:  3.75\n",
            "Sua média foi:  8.35\n"
          ]
        }
      ]
    },
    {
      "cell_type": "code",
      "source": [
        "media_final= (soma_provas + nota4)/4 #Calculando a média final. Dividido por 4 pois são 4 notas.\n"
      ],
      "metadata": {
        "id": "DPHXs4q9gJeN"
      },
      "execution_count": 78,
      "outputs": []
    },
    {
      "cell_type": "code",
      "source": [
        "if media_final >= 7: #Devolvendo ao usuário a média final e o informando se ele foi aprovado ou não.\n",
        "   print(f\"{nome}, sua média final foi {media_final}. Você passou de ano!\")\n",
        "else:\n",
        "   print(nome,'sua média final foi', media_final, ' Você não foi aprovado.')"
      ],
      "metadata": {
        "colab": {
          "base_uri": "https://localhost:8080/"
        },
        "id": "MJs_98VMg40t",
        "outputId": "efd40f60-b1f8-4b4b-a1fa-8866a284a448"
      },
      "execution_count": 83,
      "outputs": [
        {
          "output_type": "stream",
          "name": "stdout",
          "text": [
            "Julia sua média final foi 6.05  Você não foi aprovado.\n"
          ]
        }
      ]
    },
    {
      "cell_type": "code",
      "source": [],
      "metadata": {
        "id": "X8KKNnjyicBV"
      },
      "execution_count": 53,
      "outputs": []
    }
  ]
}