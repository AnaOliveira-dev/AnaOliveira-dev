{
  "nbformat": 4,
  "nbformat_minor": 0,
  "metadata": {
    "colab": {
      "provenance": [],
      "authorship_tag": "ABX9TyNJMv4FezR4fuBV+VErHHlN",
      "include_colab_link": true
    },
    "kernelspec": {
      "name": "python3",
      "display_name": "Python 3"
    },
    "language_info": {
      "name": "python"
    }
  },
  "cells": [
    {
      "cell_type": "markdown",
      "metadata": {
        "id": "view-in-github",
        "colab_type": "text"
      },
      "source": [
        "<a href=\"https://colab.research.google.com/github/AnaOliveira-dev/AnaOliveira-dev/blob/main/Calculo_de_notas_ano_letivo.ipynb\" target=\"_parent\"><img src=\"https://colab.research.google.com/assets/colab-badge.svg\" alt=\"Open In Colab\"/></a>"
      ]
    },
    {
      "cell_type": "code",
      "execution_count": 43,
      "metadata": {
        "colab": {
          "base_uri": "https://localhost:8080/"
        },
        "id": "1-88WPFHRF31",
        "outputId": "7203f05e-c9ac-4009-cd31-19110d82f7eb"
      },
      "outputs": [
        {
          "output_type": "stream",
          "name": "stdout",
          "text": [
            "Digite seu nome Julia\n",
            "Digite a nota tirada na 1ª prova 2.5\n",
            "Digite a nota tirada na 2ª prova 5\n",
            "Digite a nota tirada na 3ª prova 6.7\n",
            "Digite a nota tirada no trabalho 10\n",
            "Olá Julia, suas notas do primeiro semestre foram 2.5 e 5.0. Suas notas do segundo semestre foram 6.7 e 10.0\n"
          ]
        }
      ],
      "source": [
        "nome= input(\"Digite seu nome \") #coletando dados e salvando em string\n",
        "nota1= input(\"Digite a nota tirada na 1ª prova \")\n",
        "nota2= float(input(\"Digite a nota tirada na 2ª prova \")) #com o float antes de imput, já salva o valor em uma variavel do tipo float\n",
        "nota3= float(input(\"Digite a nota tirada na 3ª prova \"))\n",
        "nota4= float(input(\"Digite a nota tirada no trabalho \"))\n",
        "\n",
        "print(F\"Olá {nome}, suas notas do primeiro semestre foram {nota1} e {nota2}. Suas notas do segundo semestre foram {nota3} e {nota4}\") #Devolvendo os dados ao usuário"
      ]
    },
    {
      "cell_type": "code",
      "source": [
        "valor_nota1= float(nota1) #transformando para uma variável float"
      ],
      "metadata": {
        "id": "wEhXCpJcdOQ0"
      },
      "execution_count": 44,
      "outputs": []
    },
    {
      "cell_type": "code",
      "source": [
        "soma_provas= valor_nota1 + nota2 + nota3"
      ],
      "metadata": {
        "id": "6SUwv9MGeViA"
      },
      "execution_count": 45,
      "outputs": []
    },
    {
      "cell_type": "code",
      "source": [
        "primeiro_semestre_soma= valor_nota1 + nota2"
      ],
      "metadata": {
        "id": "uXdwW9NbepxV"
      },
      "execution_count": 46,
      "outputs": []
    },
    {
      "cell_type": "code",
      "source": [
        "segundo_semestre_soma= nota3 + nota4"
      ],
      "metadata": {
        "id": "1UDrcoCMetHX"
      },
      "execution_count": 47,
      "outputs": []
    },
    {
      "cell_type": "code",
      "source": [
        "lista= [primeiro_semestre_soma, segundo_semestre_soma]"
      ],
      "metadata": {
        "id": "KD1EVrWajSbp"
      },
      "execution_count": 48,
      "outputs": []
    },
    {
      "cell_type": "code",
      "source": [
        "for val in lista:\n",
        "  val/=2\n",
        "  print('Sua média foi: ', val) #Devolvendo ao usuário as médias alcançadas no primeiro e no segundo semestre"
      ],
      "metadata": {
        "colab": {
          "base_uri": "https://localhost:8080/"
        },
        "id": "buTqWg2Kf7SK",
        "outputId": "5d0dbc00-40a5-46ca-8458-14ca40381e61"
      },
      "execution_count": 62,
      "outputs": [
        {
          "output_type": "stream",
          "name": "stdout",
          "text": [
            "Sua média foi:  3.75\n",
            "Sua média foi:  8.35\n"
          ]
        }
      ]
    },
    {
      "cell_type": "code",
      "source": [
        "media_final= (soma_provas + nota4)/4 #Calculando a média final. Dividido por 4 pois são 4 notas.\n"
      ],
      "metadata": {
        "id": "DPHXs4q9gJeN"
      },
      "execution_count": 78,
      "outputs": []
    },
    {
      "cell_type": "code",
      "source": [
        "if media_final >= 7: #Devolvendo ao usuário a média final e o informando se ele foi aprovado ou não.\n",
        "   print(f\"{nome}, sua média final foi {media_final}. Você passou de ano!\")\n",
        "else:\n",
        "   print(nome,'sua média final foi', media_final, ' Você não foi aprovado.')"
      ],
      "metadata": {
        "colab": {
          "base_uri": "https://localhost:8080/"
        },
        "id": "MJs_98VMg40t",
        "outputId": "efd40f60-b1f8-4b4b-a1fa-8866a284a448"
      },
      "execution_count": 83,
      "outputs": [
        {
          "output_type": "stream",
          "name": "stdout",
          "text": [
            "Julia sua média final foi 6.05  Você não foi aprovado.\n"
          ]
        }
      ]
    },
    {
      "cell_type": "code",
      "source": [],
      "metadata": {
        "id": "X8KKNnjyicBV"
      },
      "execution_count": 53,
      "outputs": []
    }
  ]
}